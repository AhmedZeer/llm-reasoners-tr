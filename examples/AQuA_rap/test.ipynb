{
 "cells": [
  {
   "cell_type": "code",
   "execution_count": 3,
   "metadata": {},
   "outputs": [],
   "source": [
    "from exllama.tokenizer import ExLlamaTokenizer\n",
    "import os\n",
    "tokenizer = ExLlamaTokenizer(os.path.join('/data/haotian/RAP_tune/Llama-2-70B-GPTQ', \"tokenizer.model\"))"
   ]
  },
  {
   "cell_type": "code",
   "execution_count": 4,
   "metadata": {},
   "outputs": [
    {
     "data": {
      "text/plain": [
       "tensor([[29871,  3869, 29889]])"
      ]
     },
     "execution_count": 4,
     "metadata": {},
     "output_type": "execute_result"
    }
   ],
   "source": [
    "tokenizer.encode(\" Yes.\")"
   ]
  },
  {
   "cell_type": "code",
   "execution_count": 7,
   "metadata": {},
   "outputs": [
    {
     "data": {
      "text/plain": [
       "tensor([[ 1317,   278, 13944,   297,   278,   716,  1014, 29899, 12011,  1959,\n",
       "         29973, 29871]])"
      ]
     },
     "execution_count": 7,
     "metadata": {},
     "output_type": "execute_result"
    }
   ],
   "source": [
    "tokenizer.encode(\"Is the calculation in the new sub-answer correct? \")"
   ]
  },
  {
   "cell_type": "code",
   "execution_count": 9,
   "metadata": {},
   "outputs": [],
   "source": [
    "import json\n",
    "prompt = \"/home/xinyuan/workspace/llm-reasoners/examples/AQuA_rap/prompts/score_examples.json\"\n",
    "with open(prompt) as f:\n",
    "    prompt = json.load(f)"
   ]
  },
  {
   "cell_type": "code",
   "execution_count": 10,
   "metadata": {},
   "outputs": [
    {
     "data": {
      "text/plain": [
       "[{'input': \"Given a question and its sub-questions and sub-answers, determine whether the new sub-answer is logically correct. Output 'Yes' or 'No', and a reason.\\n\\nQuestion 1: When 20 percent of a number is added to another number, the second number increases to its 140 per cent. What is the ratio between the first and the second number? Options: A)3 : 4, B)2 : 1, C)3 : 2, D)Data inadequate, E)None of these\\nQuestion 1.1: Let the first number be x and the second number be y. What equation satisfied the increase?\\nNew answer 1.1: the equation is y + 0.2 x = 1.4y. The answer is y + 0.2x = 1.4y.\\nIs the new answer logically correct? Yes. The sub-answer follows the sub-question, and the equation shows the correct relationship between x and y.\\n\\nQuestion 2: In a certain store, the profit is 320% of the cost. If the cost increases by 25% but the selling price remains constant, approximately what percentage of the selling price is the profit? Options: A)80%, B)70%, C)60%, D)50%, E)40%\\nQuestion 2.1: Let cost be 100, What is the profit?\\nAnswer 2.1: The profit is 100 * 3.2 = 320. The answer is 320.\\nQuestion 2.2: Let cost be 100, What is the selling price?\\nNew answer 2.2: The selling price is 100 + 0.25 * 100 + 320 = 445. The answer is 445.\\nIs the new answer logically correct? No. The 25% of cost should not be added to the selling price, because the selling price remains constant. There is a conflict between the question and the answer.\\n\\nQestion 3: Square P is inscribed in circle Q. If the perimeter of P is 40, what is the circumference of Q? Options: A)11√2π, B)10√2π, C)9√2π, D)8√2π, E)7√2π\\nQuestion 3.1: What is side length of the square P?\\nAnswer 3.1: Square P has 4 side with equal length, so the side length is 1/4 of the perimeter: 40 / 4 = 10. The answer is 10.\\nQuestion 3.2: What is the diameter of the circle Q?\\nNew answer 3.2: The diameter of Q is equal to the length of the square, which is 10. The answer is 10.\\nIs the new answer logically correct? No. According to the question, square P is inscribed in circle Q, so the diameter of Q is equal to the diagonal of the square, which is 10 * √2π = 10√2\\n\\nQuestion 4: A 290 meters long train running at the speed of 120 kmph crosses another train running in opposite direction at the speed of 80 kmph in 9 seconds. What is the length of the other train? Options: A)230 m, B)210 m, C)260 m, D)320 m, E)330 m\\nQuestion 4.1: What is the relative speed?\\nAnswer 4.1: The relative speed is 120 + 80 = 200 kmph. The answer is 200 kmph.\\nQuestion 4.2: What is the relative speed in m/s?\\nAnswer 4.2: The speed is 200 kmph = (200 * 1000)/3600m/s = 55.55m/s\\nQuestion 4.3: What is the total distance traveled?\\nAnswer 4.3: The distance is 55.55m/s * 9 = 499.95m. The answer is 499.95m\\nQuestion 4.4: Now we can answer the question with an option from A to E: What is the length of the other train?\\nNew answer 4.4: The length of the other train is 499.95 - 290 = 209.95. The answer is B.\\nIs the new answer logically correct? Yes. The length of the other train is the traveled distance minus the length of the first train. And the result 209.95 is closest to B) 210 m.\",\n",
       "  'question_prefix': 'Question 5: ',\n",
       "  'subquestion_prefix': 'Question 5.{}:',\n",
       "  'subanswer_prefix': 'Answer 5.{}:',\n",
       "  'new_subanswer_prefix': 'New answer 5.{}:',\n",
       "  'useful_prefix': 'Is the new answer logically correct?'},\n",
       " {'input': \"Given a question and its sub-questions and sub-answers, determine whether the calculation in the new sub-answer is correct. Output 'Yes' or 'No', and a reason.\\n\\nQuestion 1: Square P is inscribed in circle Q. If the perimeter of P is 40, what is the circumference of Q? Options: A)11√2π, B)10√2π, C)9√2π, D)8√2π, E)7√2π\\nQuestion 1.1: What is side length of the square P?\\nAnswer 1.1: Square P has 4 side with equal length, so the side length is 1/4 of the perimeter: 40 / 4=10. The answer is 10.\\nQuestion 1.2: What is the diameter of the circle Q?\\nAnswer 1.2: The diameter of Q is equal to the diagonal of the square, which is 10 * √2π= 10√2. The answer is 10√2.\\nQuestion 1.3: Now we can answer the question with an option from A to E: What is the circumference of Q?\\nNew answer 1.3: The circumference of Q is diameter of Q * π, which is 10√2 * π = 10π. The answer is C.\\nIs the calculation in the new sub-answer correct? No. The correct calculation should be 10√2 * π = 10√2π, so the answer is B.\\n\\nQuestion 2: What is the average of the first 21 multiples of 7? Options: A)22, B)77, C)88, D)21, E)65\\nQuestion 2.1: What is the sum of the first 21 multiples of 7?\\nNew answer 2.1: The number is 7 * (1+2+….+21). After simplification, 7 * ((21x22) / 2) = 1617. The answer is 1617.\\nIs the calculation in the new sub-answer correct? Yes. The sum of the first 21 multiples of 7 is 1617.\\n\\nQuestion 3: If Tim had lunch at $50 and he gave 20% tip, how much did he spend? Options: A)$60.00, B)$35.42, C)$60.60, D)$21.56, E)$78.45\\nQuestion 3.1: How much is the tip?\\nNew answer 3.1: The tip is 20% of what he paid for lunch. tip = 20% of 50.00 = (20/100)*50.00 = $12.00. The answer is $12.00.\\nIs the calculation in the new sub-answer correct? No. 20% of 50.00 should be $10.00.\\n\\nQuestion 4: A class of 35 students has an average height of 180 cm. Seven students whose average height is 120 cm, left the class and seven others whose average height is 140 cm, joined. Calculate the new average height of the students of the class (in cm) is? Options: A)204.6 cm, B)404.6 cm, C)224.6 cm, D)184.0 cm, E)256.6 cm.\\nQuestion 4.1: What is the total height of students before seven students left?\\nAnswer 4.1: Total height = 180 * 35 = 6300 cm. The answer is 6300 cm.\\nQuestion 4.2: What is the total height of students who joined?\\nAnswer 4.2: Total height = 140 * 7  = 980 cm. The answer is 980 cm.\\nQuestion 4.3: What is the new total height of students after seven students joined?\\nAnswer 4.3: Total height = 6300 - 840 + 980 = 6440 cm. The answer is 6440 cm.\\nQuestion 4.4: Now we can answer the question with an option from A to E: What is the new average height?\\nNew answer 4.4: New average height is 6440 / 35 = 184 cm. The answer is D.\\nIs the calculation in the new sub-answer correct? Yes. 6440 = 35 * 184, so the calculation is correct.\",\n",
       "  'question_prefix': 'Question 5: ',\n",
       "  'subquestion_prefix': 'Question 5.{}:',\n",
       "  'subanswer_prefix': 'Answer 5.{}:',\n",
       "  'new_subanswer_prefix': 'New answer 5.{}:',\n",
       "  'useful_prefix': 'Is the calculation in the new sub-answer correct?'}]"
      ]
     },
     "execution_count": 10,
     "metadata": {},
     "output_type": "execute_result"
    }
   ],
   "source": [
    "prompt"
   ]
  },
  {
   "cell_type": "code",
   "execution_count": 2,
   "metadata": {},
   "outputs": [
    {
     "name": "stdout",
     "output_type": "stream",
     "text": [
      "match: D\n",
      "match: E\n",
      "match: A\n",
      "match: D\n",
      "match: C\n",
      "match: B\n",
      "match: A\n",
      "match: C\n",
      "match: D\n",
      "match: D\n",
      "match: D\n",
      "match: A\n",
      "match: C\n",
      "match: C\n",
      "match: A\n",
      "match: D\n",
      "match: D\n",
      "match: D\n",
      "match: E\n",
      "match: E\n",
      "match: A\n",
      "match: D\n",
      "match: C\n",
      "match: C\n",
      "match: D\n",
      "match: B\n",
      "match: C\n",
      "match: E\n",
      "match: C\n",
      "match: B\n",
      "match: C\n",
      "match: C\n",
      "match: B\n",
      "match: C\n",
      "match: B\n",
      "match: E\n",
      "match: C\n",
      "match: C\n",
      "match: E\n",
      "match: B\n",
      "match: A\n",
      "match: B\n",
      "match: D\n",
      "match: B\n",
      "match: B\n",
      "match: A\n",
      "match: E\n",
      "match: A\n",
      "match: B\n",
      "match: A\n",
      "match: D\n",
      "match: D\n",
      "match: D\n",
      "match: A\n",
      "match: E\n",
      "match: A\n",
      "match: D\n",
      "match: A\n",
      "match: C\n",
      "match: A\n",
      "match: A\n",
      "match: C\n",
      "match: E\n",
      "match: B\n",
      "match: C\n",
      "match: C\n",
      "match: C\n",
      "match: A\n",
      "match: D\n",
      "match: C\n",
      "match: A\n",
      "match: A\n",
      "match: E\n",
      "match: A\n",
      "match: B\n",
      "match: A\n",
      "match: B\n",
      "match: E\n",
      "match: B\n",
      "match: D\n",
      "match: B\n",
      "match: B\n",
      "match: B\n",
      "match: B\n",
      "match: A\n",
      "match: B\n",
      "match: A\n",
      "match: C\n",
      "match: C\n",
      "match: E\n",
      "match: D\n",
      "match: C\n",
      "match: B\n",
      "match: C\n",
      "match: A\n",
      "match: D\n",
      "match: C\n",
      "match: B\n",
      "match: C\n",
      "match: C\n",
      "match: B\n",
      "match: B\n",
      "match: C\n",
      "match: A\n",
      "match: D\n",
      "match: C\n",
      "match: D\n",
      "match: D\n",
      "match: A\n",
      "match: E\n",
      "match: D\n",
      "match: D\n",
      "match: B\n",
      "match: E\n",
      "match: C\n",
      "match: D\n",
      "match: E\n",
      "match: B\n",
      "match: D\n",
      "match: C\n",
      "match: A\n",
      "match: A\n",
      "match: E\n",
      "match: B\n",
      "match: E\n",
      "match: E\n",
      "match: D\n",
      "match: B\n",
      "match: A\n",
      "match: C\n",
      "match: D\n",
      "match: D\n",
      "match: E\n",
      "match: D\n",
      "match: C\n",
      "match: C\n",
      "match: C\n",
      "match: A\n",
      "match: B\n",
      "match: E\n",
      "match: A\n",
      "match: C\n",
      "match: C\n",
      "match: B\n",
      "match: C\n",
      "match: B\n",
      "match: B\n",
      "match: A\n",
      "match: E\n",
      "match: A\n",
      "match: A\n",
      "match: D\n",
      "match: D\n",
      "match: A\n",
      "match: C\n",
      "match: C\n",
      "match: C\n",
      "match: D\n",
      "match: B\n",
      "match: A\n",
      "match: B\n",
      "match: C\n",
      "match: B\n",
      "match: C\n",
      "match: D\n",
      "match: C\n",
      "match: E\n",
      "match: E\n",
      "match: C\n",
      "match: B\n",
      "match: B\n",
      "match: E\n",
      "match: C\n",
      "match: D\n",
      "match: C\n",
      "match: C\n",
      "match: B\n",
      "match: A\n",
      "match: B\n",
      "match: D\n",
      "match: E\n",
      "match: C\n",
      "match: E\n",
      "match: E\n",
      "match: E\n",
      "match: A\n",
      "match: D\n",
      "match: B\n",
      "match: A\n",
      "match: D\n",
      "match: A\n",
      "match: B\n",
      "match: E\n",
      "match: E\n",
      "match: E\n",
      "match: E\n",
      "match: A\n",
      "match: C\n",
      "match: C\n",
      "match: A\n",
      "match: C\n",
      "match: A\n",
      "match: D\n",
      "match: A\n",
      "match: A\n",
      "match: C\n"
     ]
    }
   ],
   "source": [
    "from inference import eval_non_aggregate\n",
    "eval_non_aggregate(pkl_pth=\"/home/xinyuan/workspace/llm-reasoners/logs/AQuA_clean_MCTS/11292023-190437/algo_output\", resume_s=0, resume_e=206)"
   ]
  },
  {
   "cell_type": "code",
   "execution_count": null,
   "metadata": {},
   "outputs": [],
   "source": []
  },
  {
   "cell_type": "code",
   "execution_count": null,
   "metadata": {},
   "outputs": [],
   "source": []
  },
  {
   "cell_type": "code",
   "execution_count": 12,
   "metadata": {},
   "outputs": [
    {
     "name": "stdout",
     "output_type": "stream",
     "text": [
      "<re.Match object; span=(0, 33), match='fiauef the answer is A. fabwiehkf'>\n"
     ]
    },
    {
     "data": {
      "text/plain": [
       "'A'"
      ]
     },
     "execution_count": 12,
     "metadata": {},
     "output_type": "execute_result"
    }
   ],
   "source": [
    "import re\n",
    "def retrieve_answer(output):\n",
    "    '''\n",
    "    output should be a world_model.AMTHState if being a list\n",
    "    '''\n",
    "    if isinstance(output, list):\n",
    "        output = output[-1].sub_answer\n",
    "    match = re.match(r'.*[Tt]he answer is.*?([A-E]).*?$', output, re.DOTALL)\n",
    "    print(match)\n",
    "    if match is None:\n",
    "        return None\n",
    "    answer = match[1].strip()\n",
    "    \n",
    "    return answer\n",
    "output = \"fiauef the answer is A. fabwiehkf\"\n",
    "retrieve_answer(output)"
   ]
  },
  {
   "cell_type": "code",
   "execution_count": null,
   "metadata": {},
   "outputs": [],
   "source": []
  },
  {
   "cell_type": "code",
   "execution_count": 1,
   "metadata": {},
   "outputs": [
    {
     "name": "stderr",
     "output_type": "stream",
     "text": [
      "/home/xinyuan/anaconda3/envs/reasoners/lib/python3.10/site-packages/tqdm/auto.py:21: TqdmWarning: IProgress not found. Please update jupyter and ipywidgets. See https://ipywidgets.readthedocs.io/en/stable/user_install.html\n",
      "  from .autonotebook import tqdm as notebook_tqdm\n"
     ]
    }
   ],
   "source": [
    "import pickle\n",
    "from typing import Type, Callable, Optional\n",
    "\n",
    "import numpy as np\n",
    "from datasets import load_dataset\n",
    "from tqdm import tqdm\n",
    "from datetime import datetime\n",
    "\n",
    "from reasoners import LanguageModel, Reasoner, SearchAlgorithm\n",
    "from reasoners.algorithm import MCTS\n",
    "\n",
    "from world_model import MATHWorldModel\n",
    "from search_config import MATHConfig\n",
    "import utils\n",
    "\n",
    "from datasets import Dataset\n",
    "import os\n",
    "import re\n",
    "import json\n",
    "\n",
    "from inference import data_reader"
   ]
  },
  {
   "cell_type": "code",
   "execution_count": 5,
   "metadata": {},
   "outputs": [
    {
     "name": "stderr",
     "output_type": "stream",
     "text": [
      "Downloading data files: 100%|██████████| 1/1 [00:00<00:00, 4471.54it/s]\n",
      "Extracting data files: 100%|██████████| 1/1 [00:00<00:00, 908.25it/s]\n",
      "Generating train split: 207 examples [00:00, 43602.90 examples/s]\n"
     ]
    }
   ],
   "source": [
    "datasetname: str = 'AQuA_clean'\n",
    "dataset_path: str = 'dataset/AQuA'\n",
    "dataset = data_reader(datasetname, dataset_path)\n"
   ]
  },
  {
   "cell_type": "code",
   "execution_count": 6,
   "metadata": {},
   "outputs": [
    {
     "data": {
      "text/plain": [
       "{'question': 'A car is being driven, in a straight line and at a uniform speed, towards the base of a vertical tower. The top of the tower is observed from the car and, in the process, it takes 10 minutes for the angle of elevation to change from 45° to 60°. After how much more time will this car reach the base of the tower? Options: A) 5(√3 + 1) B) 6(√3 + √2) C) 7(√3 – 1) D) 8(√3 – 2) E) None of these.',\n",
       " 'answer': 'A',\n",
       " 'options': ['A)5(√3 + 1)',\n",
       "  'B)6(√3 + √2)',\n",
       "  'C)7(√3 – 1)',\n",
       "  'D)8(√3 – 2)',\n",
       "  'E)None of these']}"
      ]
     },
     "execution_count": 6,
     "metadata": {},
     "output_type": "execute_result"
    }
   ],
   "source": [
    "dataset[0]"
   ]
  },
  {
   "cell_type": "code",
   "execution_count": null,
   "metadata": {},
   "outputs": [],
   "source": []
  },
  {
   "cell_type": "code",
   "execution_count": null,
   "metadata": {},
   "outputs": [],
   "source": []
  }
 ],
 "metadata": {
  "kernelspec": {
   "display_name": "myen",
   "language": "python",
   "name": "python3"
  },
  "language_info": {
   "codemirror_mode": {
    "name": "ipython",
    "version": 3
   },
   "file_extension": ".py",
   "mimetype": "text/x-python",
   "name": "python",
   "nbconvert_exporter": "python",
   "pygments_lexer": "ipython3",
   "version": "3.10.13"
  },
  "orig_nbformat": 4
 },
 "nbformat": 4,
 "nbformat_minor": 2
}
