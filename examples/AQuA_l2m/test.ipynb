{
 "cells": [
  {
   "cell_type": "code",
   "execution_count": 12,
   "metadata": {},
   "outputs": [
    {
     "name": "stdout",
     "output_type": "stream",
     "text": [
      "<re.Match object; span=(0, 33), match='fiauef the answer is A. fabwiehkf'>\n"
     ]
    },
    {
     "data": {
      "text/plain": [
       "'A'"
      ]
     },
     "execution_count": 12,
     "metadata": {},
     "output_type": "execute_result"
    }
   ],
   "source": [
    "import re\n",
    "def retrieve_answer(output):\n",
    "    '''\n",
    "    output should be a world_model.AMTHState if being a list\n",
    "    '''\n",
    "    if isinstance(output, list):\n",
    "        output = output[-1].sub_answer\n",
    "    match = re.match(r'.*[Tt]he answer is.*?([A-E]).*?$', output, re.DOTALL)\n",
    "    print(match)\n",
    "    if match is None:\n",
    "        return None\n",
    "    answer = match[1].strip()\n",
    "    \n",
    "    return answer\n",
    "output = \"fiauef the answer is A. fabwiehkf\"\n",
    "retrieve_answer(output)"
   ]
  },
  {
   "cell_type": "code",
   "execution_count": null,
   "metadata": {},
   "outputs": [],
   "source": []
  },
  {
   "cell_type": "code",
   "execution_count": 1,
   "metadata": {},
   "outputs": [
    {
     "name": "stderr",
     "output_type": "stream",
     "text": [
      "/home/xinyuan/anaconda3/envs/reasoners/lib/python3.10/site-packages/tqdm/auto.py:21: TqdmWarning: IProgress not found. Please update jupyter and ipywidgets. See https://ipywidgets.readthedocs.io/en/stable/user_install.html\n",
      "  from .autonotebook import tqdm as notebook_tqdm\n"
     ]
    }
   ],
   "source": [
    "import pickle\n",
    "from typing import Type, Callable, Optional\n",
    "\n",
    "import numpy as np\n",
    "from datasets import load_dataset\n",
    "from tqdm import tqdm\n",
    "from datetime import datetime\n",
    "\n",
    "from reasoners import LanguageModel, Reasoner, SearchAlgorithm\n",
    "from reasoners.algorithm import MCTS\n",
    "\n",
    "from world_model import MATHWorldModel\n",
    "from search_config import MATHConfig\n",
    "import utils\n",
    "\n",
    "from datasets import Dataset\n",
    "import os\n",
    "import re\n",
    "import json\n",
    "\n",
    "from inference import data_reader"
   ]
  },
  {
   "cell_type": "code",
   "execution_count": 5,
   "metadata": {},
   "outputs": [
    {
     "name": "stderr",
     "output_type": "stream",
     "text": [
      "Downloading data files: 100%|██████████| 1/1 [00:00<00:00, 4471.54it/s]\n",
      "Extracting data files: 100%|██████████| 1/1 [00:00<00:00, 908.25it/s]\n",
      "Generating train split: 207 examples [00:00, 43602.90 examples/s]\n"
     ]
    }
   ],
   "source": [
    "datasetname: str = 'AQuA_clean'\n",
    "dataset_path: str = 'dataset/AQuA'\n",
    "dataset = data_reader(datasetname, dataset_path)\n"
   ]
  },
  {
   "cell_type": "code",
   "execution_count": 6,
   "metadata": {},
   "outputs": [
    {
     "data": {
      "text/plain": [
       "{'question': 'A car is being driven, in a straight line and at a uniform speed, towards the base of a vertical tower. The top of the tower is observed from the car and, in the process, it takes 10 minutes for the angle of elevation to change from 45° to 60°. After how much more time will this car reach the base of the tower? Options: A) 5(√3 + 1) B) 6(√3 + √2) C) 7(√3 – 1) D) 8(√3 – 2) E) None of these.',\n",
       " 'answer': 'A',\n",
       " 'options': ['A)5(√3 + 1)',\n",
       "  'B)6(√3 + √2)',\n",
       "  'C)7(√3 – 1)',\n",
       "  'D)8(√3 – 2)',\n",
       "  'E)None of these']}"
      ]
     },
     "execution_count": 6,
     "metadata": {},
     "output_type": "execute_result"
    }
   ],
   "source": [
    "dataset[0]"
   ]
  },
  {
   "cell_type": "code",
   "execution_count": null,
   "metadata": {},
   "outputs": [],
   "source": []
  },
  {
   "cell_type": "code",
   "execution_count": null,
   "metadata": {},
   "outputs": [],
   "source": []
  }
 ],
 "metadata": {
  "kernelspec": {
   "display_name": "myen",
   "language": "python",
   "name": "python3"
  },
  "language_info": {
   "codemirror_mode": {
    "name": "ipython",
    "version": 3
   },
   "file_extension": ".py",
   "mimetype": "text/x-python",
   "name": "python",
   "nbconvert_exporter": "python",
   "pygments_lexer": "ipython3",
   "version": "3.10.13"
  },
  "orig_nbformat": 4
 },
 "nbformat": 4,
 "nbformat_minor": 2
}
