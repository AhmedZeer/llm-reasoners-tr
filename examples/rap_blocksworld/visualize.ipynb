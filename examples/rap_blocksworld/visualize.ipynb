{
 "cells": [
  {
   "cell_type": "code",
   "execution_count": 1,
   "metadata": {
    "ExecuteTime": {
     "end_time": "2023-07-22T15:23:26.493869Z",
     "start_time": "2023-07-22T15:23:26.490035Z"
    }
   },
   "outputs": [],
   "source": [
    "import pickle"
   ]
  },
  {
   "cell_type": "markdown",
   "metadata": {},
   "source": []
  },
  {
   "cell_type": "code",
   "execution_count": 2,
   "metadata": {
    "ExecuteTime": {
     "end_time": "2023-07-22T15:23:26.497224Z",
     "start_time": "2023-07-22T15:23:26.494799Z"
    }
   },
   "outputs": [],
   "source": [
    "# add path\n",
    "import sys\n",
    "\n",
    "sys.path.append('..')"
   ]
  },
  {
   "cell_type": "code",
   "execution_count": 3,
   "metadata": {
    "ExecuteTime": {
     "end_time": "2023-07-22T15:23:28.213452Z",
     "start_time": "2023-07-22T15:23:26.497928Z"
    },
    "collapsed": false
   },
   "outputs": [
    {
     "name": "stderr",
     "output_type": "stream",
     "text": [
      "/home/shibo/anaconda3/envs/rap/lib/python3.10/site-packages/tqdm/auto.py:21: TqdmWarning: IProgress not found. Please update jupyter and ipywidgets. See https://ipywidgets.readthedocs.io/en/stable/user_install.html\n",
      "  from .autonotebook import tqdm as notebook_tqdm\n"
     ]
    }
   ],
   "source": [
    "from reasoners.visualization import visualize"
   ]
  },
  {
   "cell_type": "code",
   "execution_count": 4,
   "metadata": {
    "ExecuteTime": {
     "end_time": "2023-07-22T15:11:44.345695Z",
     "start_time": "2023-07-22T15:11:41.138585Z"
    }
   },
   "outputs": [],
   "source": [
    "with open(\"/home/shibo/LLM-search/logs/bw_MCTS/08272023-151944/algo_output/1.pkl\", 'rb') as f:\n",
    "    mcts_result = pickle.load(f)"
   ]
  },
  {
   "cell_type": "code",
   "execution_count": 7,
   "metadata": {},
   "outputs": [],
   "source": [
    "from reasoners.visualization.tree_snapshot import NodeData, EdgeData\n",
    "from reasoners.algorithm.mcts import MCTSNode\n",
    "\n",
    "def blocksworld_node_data_factory(n: MCTSNode) -> NodeData:\n",
    "    return NodeData({\"block state\": n.state.blocks_state if n.state else \"Not expanded\",\n",
    "                     \"# goals satisfied\": int(n.reward_details[\"goal_reached\"][1]) if hasattr(n, \"reward_details\") else \"N/A\"})\n",
    "def blocksworld_edge_data_factory(n: MCTSNode) -> EdgeData:\n",
    "    return EdgeData({\"Q\": n.Q, \"intuition\": n.fast_reward_details[\"intuition\"], \"self_eval\": n.fast_reward_details[\"self_eval\"], \"action\": n.action})"
   ]
  },
  {
   "cell_type": "code",
   "execution_count": 8,
   "metadata": {
    "collapsed": false
   },
   "outputs": [
    {
     "name": "stdout",
     "output_type": "stream",
     "text": [
      "Visualizer URL: https://www.llm-reasoners.net/visualizer/d7fc478d-12f8-4b64-b366-5816c072207d?accessKey=2bc2ac61\n"
     ]
    }
   ],
   "source": [
    "visualize(mcts_result, node_data_factory=blocksworld_node_data_factory, edge_data_factory=blocksworld_edge_data_factory)"
   ]
  },
  {
   "cell_type": "code",
   "execution_count": 35,
   "metadata": {},
   "outputs": [],
   "source": [
    "from reasoners.visualization import TreeLog"
   ]
  },
  {
   "cell_type": "code",
   "execution_count": 41,
   "metadata": {},
   "outputs": [],
   "source": [
    "import os\n",
    "os.mkdir(\"/home/shibo/LLM-search/logs/bw_MCTS/07282023-161026/tree_logs\")\n",
    "for i in range(1, 21):\n",
    "    with open(f\"/home/shibo/LLM-search/logs/bw_MCTS/07282023-161026/algo_output/{i}.pkl\", 'rb') as f:\n",
    "        mcts_result = pickle.load(f)\n",
    "    tree_log = TreeLog.from_mcts_results(mcts_result, node_data_factory=blocksworld_node_data_factory, edge_data_factory=blocksworld_edge_data_factory)\n",
    "    with open(f\"/home/shibo/LLM-search/logs/bw_MCTS/07282023-161026/tree_logs/tree_log_{i}.json\", 'w') as f:\n",
    "        f.write(str(tree_log))"
   ]
  },
  {
   "cell_type": "code",
   "execution_count": 5,
   "metadata": {},
   "outputs": [],
   "source": [
    "import json\n",
    "questions = []\n",
    "with open(\"/home/shibo/LLM-search/logs/bw_MCTS/07282023-161026/questions.jsonl\", \"r\") as f:\n",
    "    data = f.readlines()\n",
    "    for i in range(20):\n",
    "        d = json.loads(data[i])\n",
    "        question = \"My goal is to have \" + d[\"goal\"] + \" The initial state is that, \" + d[\"init\"] + \" What's the action plan to achieve my goal?\"\n",
    "        questions.append(question)\n",
    "\n",
    "json.dump(questions, open(\"bw_questions.json\", \"w\"))"
   ]
  },
  {
   "cell_type": "code",
   "execution_count": null,
   "metadata": {},
   "outputs": [],
   "source": []
  }
 ],
 "metadata": {
  "kernelspec": {
   "display_name": "rap",
   "language": "python",
   "name": "python3"
  },
  "language_info": {
   "codemirror_mode": {
    "name": "ipython",
    "version": 3
   },
   "file_extension": ".py",
   "mimetype": "text/x-python",
   "name": "python",
   "nbconvert_exporter": "python",
   "pygments_lexer": "ipython3",
   "version": "3.10.11"
  },
  "orig_nbformat": 4
 },
 "nbformat": 4,
 "nbformat_minor": 2
}
