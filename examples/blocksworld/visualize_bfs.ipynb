{
 "cells": [
  {
   "cell_type": "code",
   "execution_count": 1,
   "metadata": {
    "ExecuteTime": {
     "end_time": "2023-07-22T15:23:26.493869Z",
     "start_time": "2023-07-22T15:23:26.490035Z"
    }
   },
   "outputs": [
    {
     "name": "stderr",
     "output_type": "stream",
     "text": [
      "/home/shibo/.conda/envs/reasoners-310/lib/python3.10/site-packages/tqdm/auto.py:21: TqdmWarning: IProgress not found. Please update jupyter and ipywidgets. See https://ipywidgets.readthedocs.io/en/stable/user_install.html\n",
      "  from .autonotebook import tqdm as notebook_tqdm\n"
     ]
    }
   ],
   "source": [
    "# import modules\n",
    "import pickle\n",
    "import sys\n",
    "sys.path.append('..') \n",
    "# the data structure for blocksworld is defined in the parent directory\n",
    "from reasoners.visualization import visualize"
   ]
  },
  {
   "cell_type": "code",
   "execution_count": 3,
   "metadata": {
    "ExecuteTime": {
     "end_time": "2023-07-22T15:11:44.345695Z",
     "start_time": "2023-07-22T15:11:41.138585Z"
    }
   },
   "outputs": [],
   "source": [
    "from tot_inference import BWState\n",
    "# load the log\n",
    "with open(\"/home/shibo/LLM-search/logs/bfs_v1_step2_debug_d/algo_output/1.pkl\", 'rb') as f:\n",
    "    bfs_result = pickle.load(f)"
   ]
  },
  {
   "cell_type": "code",
   "execution_count": 4,
   "metadata": {},
   "outputs": [],
   "source": [
    "# customize the information to show (optional)\n",
    "from reasoners.visualization.tree_snapshot import NodeData, EdgeData\n",
    "# from reasoners.algorithm.mcts import MCTSNode\n",
    "\n",
    "def blocksworld_node_data_factory(n) -> NodeData:\n",
    "    return NodeData({\"history\": n.state.action_history if n.state else \"Not expanded\"})\n",
    "def blocksworld_edge_data_factory(n) -> EdgeData:\n",
    "    return EdgeData({\"intuition\": n.reward_details[\"intuition\"], \"self_eval\": n.reward_details[\"self_eval\"], \"action\": n.action})"
   ]
  },
  {
   "cell_type": "code",
   "execution_count": 12,
   "metadata": {
    "collapsed": false
   },
   "outputs": [
    {
     "name": "stdout",
     "output_type": "stream",
     "text": [
      "Visualizer URL: https://www.llm-reasoners.net/visualizer/e7a4f7a5-bb75-4cf7-8641-81b409b3ddca?accessKey=f0575647\n"
     ]
    }
   ],
   "source": [
    "# let's go!\n",
    "visualize(beam_result, node_data_factory=blocksworld_node_data_factory, edge_data_factory=blocksworld_edge_data_factory)"
   ]
  },
  {
   "cell_type": "code",
   "execution_count": 33,
   "metadata": {},
   "outputs": [
    {
     "data": {
      "text/plain": [
       "[(None, BWState(step_idx=0, action_history=[], end=False), 0.0),\n",
       " ('pick up the red block',\n",
       "  BWState(step_idx=1, action_history=['pick up the red block'], end=False),\n",
       "  -1.1960841),\n",
       " ('stack the red block on top of the yellow block',\n",
       "  BWState(step_idx=2, action_history=['pick up the red block', 'stack the red block on top of the yellow block'], end=False),\n",
       "  -1.2516118),\n",
       " ('pick up the orange block',\n",
       "  BWState(step_idx=3, action_history=['pick up the red block', 'stack the red block on top of the yellow block', 'pick up the orange block'], end=False),\n",
       "  -1.6791784),\n",
       " ('stack the orange block on top of the red block',\n",
       "  BWState(step_idx=4, action_history=['pick up the red block', 'stack the red block on top of the yellow block', 'pick up the orange block', 'stack the orange block on top of the red block'], end=False),\n",
       "  -1.1535076),\n",
       " ('[PLAN END]',\n",
       "  BWState(step_idx=5, action_history=['pick up the red block', 'stack the red block on top of the yellow block', 'pick up the orange block', 'stack the orange block on top of the red block'], end=True),\n",
       "  -0.8565891)]"
      ]
     },
     "execution_count": 33,
     "metadata": {},
     "output_type": "execute_result"
    }
   ],
   "source": [
    "beam_result.terminal_node.get_trace()"
   ]
  },
  {
   "cell_type": "code",
   "execution_count": 35,
   "metadata": {},
   "outputs": [
    {
     "data": {
      "text/plain": [
       "['pick up the red block',\n",
       " 'stack the red block on top of the yellow block',\n",
       " 'pick up the orange block',\n",
       " 'stack the orange block on top of the red block']"
      ]
     },
     "execution_count": 35,
     "metadata": {},
     "output_type": "execute_result"
    }
   ],
   "source": [
    "beam_result.terminal_node.state.action_history"
   ]
  },
  {
   "cell_type": "code",
   "execution_count": null,
   "metadata": {},
   "outputs": [],
   "source": []
  }
 ],
 "metadata": {
  "kernelspec": {
   "display_name": "rap",
   "language": "python",
   "name": "python3"
  },
  "language_info": {
   "codemirror_mode": {
    "name": "ipython",
    "version": 3
   },
   "file_extension": ".py",
   "mimetype": "text/x-python",
   "name": "python",
   "nbconvert_exporter": "python",
   "pygments_lexer": "ipython3",
   "version": "3.10.13"
  },
  "orig_nbformat": 4
 },
 "nbformat": 4,
 "nbformat_minor": 2
}
