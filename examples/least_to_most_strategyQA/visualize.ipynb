{
 "cells": [
  {
   "cell_type": "code",
   "execution_count": 1,
   "metadata": {},
   "outputs": [],
   "source": [
    "import pickle"
   ]
  },
  {
   "cell_type": "code",
   "execution_count": 2,
   "metadata": {},
   "outputs": [],
   "source": [
    "# add path\n",
    "import sys\n",
    "\n",
    "sys.path.append('..')"
   ]
  },
  {
   "cell_type": "code",
   "execution_count": 3,
   "metadata": {},
   "outputs": [],
   "source": [
    "with open(\"/data/tianyang/llm-reasoners/logs/least_to_most_strategyqa_BeamSearch/08152023-002120/algo_output/2.pkl\", \"rb\") as f:\n",
    "    bs_result = pickle.load(f)"
   ]
  },
  {
   "cell_type": "code",
   "execution_count": 4,
   "metadata": {},
   "outputs": [],
   "source": [
    "# if you return the whole beam, just pick up random one to visualize\n",
    "terminal_node = bs_result.terminal_node\n",
    "tree = bs_result.tree"
   ]
  },
  {
   "cell_type": "code",
   "execution_count": 5,
   "metadata": {},
   "outputs": [
    {
     "data": {
      "text/plain": [
       "BeamSearchResult(terminal_node=<reasoners.algorithm.beam_search.BeamSearchNode object at 0x7f54fa4bb790>, cum_reward=0, tree=<reasoners.algorithm.beam_search.BeamSearchNode object at 0x7f539b49b910>)"
      ]
     },
     "execution_count": 5,
     "metadata": {},
     "output_type": "execute_result"
    }
   ],
   "source": [
    "bs_result"
   ]
  },
  {
   "cell_type": "code",
   "execution_count": 7,
   "metadata": {},
   "outputs": [
    {
     "name": "stdout",
     "output_type": "stream",
     "text": [
      "Visualizer URL: https://www.llm-reasoners.net/visualizer/edffdccb-c423-4e5d-9af0-fba7bab14be0?accessKey=297b19aa\n"
     ]
    }
   ],
   "source": [
    "from reasoners.visualization import visualize\n",
    "from reasoners.algorithm.beam_search import BeamSearchNode\n",
    "\n",
    "def strategyqa_node_factory(n: BeamSearchNode):\n",
    "    if not n.state:\n",
    "        return {}\n",
    "\n",
    "    return {\n",
    "            \"sub_question\": n.state[-1].sub_question,\n",
    "            \"sub_answer\": n.state[-1].sub_answer,\n",
    "    }\n",
    "\n",
    "def strategyqa_edge_factory(n: BeamSearchNode):\n",
    "    if not n.state:\n",
    "        return {}\n",
    "\n",
    "    return {\n",
    "        \"reward\": n.reward\n",
    "    }\n",
    "\n",
    "visualize(bs_result, node_data_factory=strategyqa_node_factory, edge_data_factory=strategyqa_edge_factory)"
   ]
  }
 ],
 "metadata": {
  "kernelspec": {
   "display_name": "reasoners",
   "language": "python",
   "name": "python3"
  },
  "language_info": {
   "codemirror_mode": {
    "name": "ipython",
    "version": 3
   },
   "file_extension": ".py",
   "mimetype": "text/x-python",
   "name": "python",
   "nbconvert_exporter": "python",
   "pygments_lexer": "ipython3",
   "version": "3.10.12"
  },
  "orig_nbformat": 4
 },
 "nbformat": 4,
 "nbformat_minor": 2
}
