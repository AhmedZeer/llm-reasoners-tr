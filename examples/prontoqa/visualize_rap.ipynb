{
 "cells": [
  {
   "cell_type": "code",
   "execution_count": 17,
   "metadata": {
    "ExecuteTime": {
     "end_time": "2023-07-22T15:23:26.493869Z",
     "start_time": "2023-07-22T15:23:26.490035Z"
    }
   },
   "outputs": [],
   "source": [
    "# import modules\n",
    "import pickle\n",
    "import sys\n",
    "sys.path.append('..') \n",
    "# the data structure for blocksworld is defined in the parent directory\n",
    "from reasoners.visualization import visualize"
   ]
  },
  {
   "cell_type": "code",
   "execution_count": 18,
   "metadata": {},
   "outputs": [],
   "source": [
    "# from tot_inference import BWState"
   ]
  },
  {
   "cell_type": "code",
   "execution_count": 19,
   "metadata": {},
   "outputs": [],
   "source": [
    "import pickle\n",
    "with open(\"/home/shibo/LLM-search/logs/prontoqa_MCTS/01282024-180003/algo_output/1.pkl\", 'rb') as f:\n",
    "    mcts_result = pickle.load(f)"
   ]
  },
  {
   "cell_type": "code",
   "execution_count": 20,
   "metadata": {},
   "outputs": [
    {
     "data": {
      "text/plain": [
       "'Alex is a lepidopteran.\\nAlex is an insect.\\nAlex is six-legged.'"
      ]
     },
     "execution_count": 20,
     "metadata": {},
     "output_type": "execute_result"
    }
   ],
   "source": [
    "\"\\n\".join([mcts_result.trace[0][i].body for i in range(1, len(mcts_result.trace[0]) - 1)])"
   ]
  },
  {
   "cell_type": "code",
   "execution_count": 22,
   "metadata": {},
   "outputs": [
    {
     "data": {
      "text/plain": [
       "'Alex is a lepidopteran.\\nAlex is an insect.\\nAlex is six-legged.'"
      ]
     },
     "execution_count": 22,
     "metadata": {},
     "output_type": "execute_result"
    }
   ],
   "source": [
    "\"\\n\".join([mcts_result.trace[0][i].body for i in range(1, len(mcts_result.trace[0]) - 1)])"
   ]
  },
  {
   "cell_type": "code",
   "execution_count": 21,
   "metadata": {},
   "outputs": [
    {
     "data": {
      "text/plain": [
       "([ProntoQAState(last_state=None, last_action=None, body='Alex is a butterfly.'),\n",
       "  ProntoQAState(last_state=ProntoQAState(last_state=None, last_action=None, body='Alex is a butterfly.'), last_action='Butterflies are lepidopterans.', body='Alex is a lepidopteran.'),\n",
       "  ProntoQAState(last_state=ProntoQAState(last_state=ProntoQAState(last_state=None, last_action=None, body='Alex is a butterfly.'), last_action='Butterflies are lepidopterans.', body='Alex is a lepidopteran.'), last_action='Lepidopterans are insects.', body='Alex is an insect.'),\n",
       "  ProntoQAState(last_state=ProntoQAState(last_state=ProntoQAState(last_state=ProntoQAState(last_state=None, last_action=None, body='Alex is a butterfly.'), last_action='Butterflies are lepidopterans.', body='Alex is a lepidopteran.'), last_action='Lepidopterans are insects.', body='Alex is an insect.'), last_action='Every insect is six-legged.', body='Alex is six-legged.'),\n",
       "  ProntoQAState(last_state=ProntoQAState(last_state=ProntoQAState(last_state=ProntoQAState(last_state=ProntoQAState(last_state=None, last_action=None, body='Alex is a butterfly.'), last_action='Butterflies are lepidopterans.', body='Alex is a lepidopteran.'), last_action='Lepidopterans are insects.', body='Alex is an insect.'), last_action='Every insect is six-legged.', body='Alex is six-legged.'), last_action='Finish.', body='True')],\n",
       " ['Butterflies are lepidopterans.',\n",
       "  'Lepidopterans are insects.',\n",
       "  'Every insect is six-legged.',\n",
       "  'Finish.'])"
      ]
     },
     "execution_count": 21,
     "metadata": {},
     "output_type": "execute_result"
    }
   ],
   "source": [
    "mcts_result.trace"
   ]
  },
  {
   "cell_type": "markdown",
   "metadata": {},
   "source": []
  },
  {
   "cell_type": "markdown",
   "metadata": {},
   "source": []
  },
  {
   "cell_type": "code",
   "execution_count": 12,
   "metadata": {},
   "outputs": [],
   "source": [
    "# customize the information to show (optional)\n",
    "from reasoners.visualization.tree_snapshot import NodeData, EdgeData\n",
    "from reasoners.algorithm.mcts import MCTSNode\n",
    "\n",
    "def blocksworld_node_data_factory(n: MCTSNode) -> NodeData:\n",
    "    return NodeData({\"state\": n.state.body if n.state else None})\n",
    "def blocksworld_edge_data_factory(n) -> EdgeData:\n",
    "    return EdgeData({\"intuition\": n.fast_reward_details[\"intuition\"], \"self_eval\": n.fast_reward_details[\"self-eval\"], \"action\": n.action})"
   ]
  },
  {
   "cell_type": "code",
   "execution_count": 13,
   "metadata": {},
   "outputs": [
    {
     "data": {
      "text/plain": [
       "{'self-eval': 0.28776779770851135, 'intuition': -0.55069757}"
      ]
     },
     "execution_count": 13,
     "metadata": {},
     "output_type": "execute_result"
    }
   ],
   "source": [
    "mcts_result.trace_in_each_iter[-1][1].fast_reward_details"
   ]
  },
  {
   "cell_type": "code",
   "execution_count": 14,
   "metadata": {
    "collapsed": false
   },
   "outputs": [
    {
     "name": "stdout",
     "output_type": "stream",
     "text": [
      "Visualizer URL: https://www.llm-reasoners.net/visualizer/925389f3-902d-4dbe-8215-d9d5076a1354?accessKey=6ed334bc\n"
     ]
    }
   ],
   "source": [
    "# let's go!\n",
    "visualize(mcts_result, edge_data_factory=blocksworld_edge_data_factory, node_data_factory=blocksworld_node_data_factory)"
   ]
  },
  {
   "cell_type": "code",
   "execution_count": 14,
   "metadata": {},
   "outputs": [
    {
     "ename": "AttributeError",
     "evalue": "'BeamSearchResult' object has no attribute 'state'",
     "output_type": "error",
     "traceback": [
      "\u001b[0;31m---------------------------------------------------------------------------\u001b[0m",
      "\u001b[0;31mAttributeError\u001b[0m                            Traceback (most recent call last)",
      "\u001b[1;32m/home/shibo/llm-reasoners/examples/blocksworld/visualize.ipynb Cell 8\u001b[0m line \u001b[0;36m1\n\u001b[0;32m----> <a href='vscode-notebook-cell://ssh-remote%2Bserv9/home/shibo/llm-reasoners/examples/blocksworld/visualize.ipynb#X12sdnNjb2RlLXJlbW90ZQ%3D%3D?line=0'>1</a>\u001b[0m beam_result\u001b[39m.\u001b[39;49mstate\n",
      "\u001b[0;31mAttributeError\u001b[0m: 'BeamSearchResult' object has no attribute 'state'"
     ]
    }
   ],
   "source": [
    "beam_result.state"
   ]
  },
  {
   "cell_type": "code",
   "execution_count": null,
   "metadata": {},
   "outputs": [],
   "source": []
  }
 ],
 "metadata": {
  "kernelspec": {
   "display_name": "rap",
   "language": "python",
   "name": "python3"
  },
  "language_info": {
   "codemirror_mode": {
    "name": "ipython",
    "version": 3
   },
   "file_extension": ".py",
   "mimetype": "text/x-python",
   "name": "python",
   "nbconvert_exporter": "python",
   "pygments_lexer": "ipython3",
   "version": "3.10.13"
  },
  "orig_nbformat": 4
 },
 "nbformat": 4,
 "nbformat_minor": 2
}
