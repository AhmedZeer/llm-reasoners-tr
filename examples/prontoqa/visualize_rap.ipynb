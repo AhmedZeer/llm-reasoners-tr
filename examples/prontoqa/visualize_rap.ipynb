{
 "cells": [
  {
   "cell_type": "code",
   "execution_count": 1,
   "metadata": {
    "ExecuteTime": {
     "end_time": "2023-07-22T15:23:26.493869Z",
     "start_time": "2023-07-22T15:23:26.490035Z"
    }
   },
   "outputs": [
    {
     "name": "stderr",
     "output_type": "stream",
     "text": [
      "/home/shibo/.conda/envs/reasoners-310/lib/python3.10/site-packages/tqdm/auto.py:21: TqdmWarning: IProgress not found. Please update jupyter and ipywidgets. See https://ipywidgets.readthedocs.io/en/stable/user_install.html\n",
      "  from .autonotebook import tqdm as notebook_tqdm\n"
     ]
    }
   ],
   "source": [
    "# import modules\n",
    "import pickle\n",
    "import sys\n",
    "sys.path.append('..') \n",
    "# the data structure for blocksworld is defined in the parent directory\n",
    "from reasoners.visualization import visualize"
   ]
  },
  {
   "cell_type": "code",
   "execution_count": 2,
   "metadata": {},
   "outputs": [],
   "source": [
    "# from tot_inference import BWState"
   ]
  },
  {
   "cell_type": "code",
   "execution_count": 3,
   "metadata": {},
   "outputs": [],
   "source": [
    "import pickle\n",
    "with open(\"/home/shibo/LLM-search/logs/prontoqa_MCTS/01282024-223430/algo_output/2.pkl\", 'rb') as f:\n",
    "    mcts_result = pickle.load(f)"
   ]
  },
  {
   "cell_type": "code",
   "execution_count": 4,
   "metadata": {},
   "outputs": [
    {
     "data": {
      "text/plain": [
       "MCTSResult(terminal_state=ProntoQAState(last_state=ProntoQAState(last_state=ProntoQAState(last_state=ProntoQAState(last_state=ProntoQAState(last_state=ProntoQAState(last_state=ProntoQAState(last_state=None, last_action=None, body='3 is a prime number.'), last_action='Prime numbers are prime.', body='3 is prime.'), last_action='Every prime number is a natural number.', body='3 is a natural number.'), last_action='Every natural number is an integer.', body='3 is an integer.'), last_action='Every integer is a real number.', body='3 is a real number.'), last_action='Real numbers are not imaginary.', body='3 is not imaginary.'), last_action='Finish.', body='True'), cum_reward=-0.21600073079268137, trace=([ProntoQAState(last_state=None, last_action=None, body='3 is a prime number.'), ProntoQAState(last_state=ProntoQAState(last_state=None, last_action=None, body='3 is a prime number.'), last_action='Prime numbers are prime.', body='3 is prime.'), ProntoQAState(last_state=ProntoQAState(last_state=ProntoQAState(last_state=None, last_action=None, body='3 is a prime number.'), last_action='Prime numbers are prime.', body='3 is prime.'), last_action='Every prime number is a natural number.', body='3 is a natural number.'), ProntoQAState(last_state=ProntoQAState(last_state=ProntoQAState(last_state=ProntoQAState(last_state=None, last_action=None, body='3 is a prime number.'), last_action='Prime numbers are prime.', body='3 is prime.'), last_action='Every prime number is a natural number.', body='3 is a natural number.'), last_action='Every natural number is an integer.', body='3 is an integer.'), ProntoQAState(last_state=ProntoQAState(last_state=ProntoQAState(last_state=ProntoQAState(last_state=ProntoQAState(last_state=None, last_action=None, body='3 is a prime number.'), last_action='Prime numbers are prime.', body='3 is prime.'), last_action='Every prime number is a natural number.', body='3 is a natural number.'), last_action='Every natural number is an integer.', body='3 is an integer.'), last_action='Every integer is a real number.', body='3 is a real number.'), ProntoQAState(last_state=ProntoQAState(last_state=ProntoQAState(last_state=ProntoQAState(last_state=ProntoQAState(last_state=ProntoQAState(last_state=None, last_action=None, body='3 is a prime number.'), last_action='Prime numbers are prime.', body='3 is prime.'), last_action='Every prime number is a natural number.', body='3 is a natural number.'), last_action='Every natural number is an integer.', body='3 is an integer.'), last_action='Every integer is a real number.', body='3 is a real number.'), last_action='Real numbers are not imaginary.', body='3 is not imaginary.'), ProntoQAState(last_state=ProntoQAState(last_state=ProntoQAState(last_state=ProntoQAState(last_state=ProntoQAState(last_state=ProntoQAState(last_state=ProntoQAState(last_state=None, last_action=None, body='3 is a prime number.'), last_action='Prime numbers are prime.', body='3 is prime.'), last_action='Every prime number is a natural number.', body='3 is a natural number.'), last_action='Every natural number is an integer.', body='3 is an integer.'), last_action='Every integer is a real number.', body='3 is a real number.'), last_action='Real numbers are not imaginary.', body='3 is not imaginary.'), last_action='Finish.', body='True')], ['Prime numbers are prime.', 'Every prime number is a natural number.', 'Every natural number is an integer.', 'Every integer is a real number.', 'Real numbers are not imaginary.', 'Finish.']), trace_of_nodes=[<reasoners.algorithm.mcts.MCTSNode object at 0x7f1fda037d00>, <reasoners.algorithm.mcts.MCTSNode object at 0x7f1fda037df0>, <reasoners.algorithm.mcts.MCTSNode object at 0x7f1fda035c00>, <reasoners.algorithm.mcts.MCTSNode object at 0x7f1fda037c40>, <reasoners.algorithm.mcts.MCTSNode object at 0x7f1fda04ce80>, <reasoners.algorithm.mcts.MCTSNode object at 0x7f1fda04c130>, <reasoners.algorithm.mcts.MCTSNode object at 0x7f1fda04c2b0>], tree_state=<reasoners.algorithm.mcts.MCTSNode object at 0x7f1fda037d00>, trace_in_each_iter=[[<reasoners.algorithm.mcts.MCTSNode object at 0x7f1fda04c790>, <reasoners.algorithm.mcts.MCTSNode object at 0x7f1fda04c970>, <reasoners.algorithm.mcts.MCTSNode object at 0x7f1fda04d0f0>, <reasoners.algorithm.mcts.MCTSNode object at 0x7f1fda04cc40>, <reasoners.algorithm.mcts.MCTSNode object at 0x7f1fda04cca0>, <reasoners.algorithm.mcts.MCTSNode object at 0x7f1fda04d3c0>, <reasoners.algorithm.mcts.MCTSNode object at 0x7f1fda04d510>], [<reasoners.algorithm.mcts.MCTSNode object at 0x7f1fda04d8a0>, <reasoners.algorithm.mcts.MCTSNode object at 0x7f1fda04dab0>, <reasoners.algorithm.mcts.MCTSNode object at 0x7f1fda04dcc0>, <reasoners.algorithm.mcts.MCTSNode object at 0x7f1fda04de40>, <reasoners.algorithm.mcts.MCTSNode object at 0x7f1fda04dfc0>, <reasoners.algorithm.mcts.MCTSNode object at 0x7f1fda04e140>, <reasoners.algorithm.mcts.MCTSNode object at 0x7f1fda04e2c0>], [<reasoners.algorithm.mcts.MCTSNode object at 0x7f1fda04e680>, <reasoners.algorithm.mcts.MCTSNode object at 0x7f1fda04e8c0>, <reasoners.algorithm.mcts.MCTSNode object at 0x7f1fda04eb00>, <reasoners.algorithm.mcts.MCTSNode object at 0x7f1fda04ecb0>, <reasoners.algorithm.mcts.MCTSNode object at 0x7f1fda04ee60>, <reasoners.algorithm.mcts.MCTSNode object at 0x7f1fda04f010>, <reasoners.algorithm.mcts.MCTSNode object at 0x7f1fda04f1c0>], [<reasoners.algorithm.mcts.MCTSNode object at 0x7f1fda04f5b0>, <reasoners.algorithm.mcts.MCTSNode object at 0x7f1fda04f820>, <reasoners.algorithm.mcts.MCTSNode object at 0x7f1fda04fa90>, <reasoners.algorithm.mcts.MCTSNode object at 0x7f1fda04fc70>, <reasoners.algorithm.mcts.MCTSNode object at 0x7f1fda04fe50>, <reasoners.algorithm.mcts.MCTSNode object at 0x7f1fda060070>, <reasoners.algorithm.mcts.MCTSNode object at 0x7f1fda060250>], [<reasoners.algorithm.mcts.MCTSNode object at 0x7f1fda060670>, <reasoners.algorithm.mcts.MCTSNode object at 0x7f1fda060910>, <reasoners.algorithm.mcts.MCTSNode object at 0x7f1fda060bb0>, <reasoners.algorithm.mcts.MCTSNode object at 0x7f1fda060dc0>, <reasoners.algorithm.mcts.MCTSNode object at 0x7f1fda060fd0>, <reasoners.algorithm.mcts.MCTSNode object at 0x7f1fda0611e0>, <reasoners.algorithm.mcts.MCTSNode object at 0x7f1fda0613f0>], [<reasoners.algorithm.mcts.MCTSNode object at 0x7f1fda061840>, <reasoners.algorithm.mcts.MCTSNode object at 0x7f1fda061b10>, <reasoners.algorithm.mcts.MCTSNode object at 0x7f1fda061de0>, <reasoners.algorithm.mcts.MCTSNode object at 0x7f1fda062020>, <reasoners.algorithm.mcts.MCTSNode object at 0x7f1fda062260>, <reasoners.algorithm.mcts.MCTSNode object at 0x7f1fda0624a0>, <reasoners.algorithm.mcts.MCTSNode object at 0x7f1fda0626e0>], [<reasoners.algorithm.mcts.MCTSNode object at 0x7f1fda062b60>, <reasoners.algorithm.mcts.MCTSNode object at 0x7f1fda062e60>, <reasoners.algorithm.mcts.MCTSNode object at 0x7f1fda063160>, <reasoners.algorithm.mcts.MCTSNode object at 0x7f1fda0633d0>, <reasoners.algorithm.mcts.MCTSNode object at 0x7f1fda063640>, <reasoners.algorithm.mcts.MCTSNode object at 0x7f1fda0638b0>, <reasoners.algorithm.mcts.MCTSNode object at 0x7f1fda063b20>], [<reasoners.algorithm.mcts.MCTSNode object at 0x7f1fda063fd0>, <reasoners.algorithm.mcts.MCTSNode object at 0x7f1fda074340>, <reasoners.algorithm.mcts.MCTSNode object at 0x7f1fda074670>, <reasoners.algorithm.mcts.MCTSNode object at 0x7f1fda074910>, <reasoners.algorithm.mcts.MCTSNode object at 0x7f1fda074bb0>, <reasoners.algorithm.mcts.MCTSNode object at 0x7f1fda074e50>, <reasoners.algorithm.mcts.MCTSNode object at 0x7f1fda0750f0>], [<reasoners.algorithm.mcts.MCTSNode object at 0x7f1fda0755d0>, <reasoners.algorithm.mcts.MCTSNode object at 0x7f1fda075930>, <reasoners.algorithm.mcts.MCTSNode object at 0x7f1fda075c90>, <reasoners.algorithm.mcts.MCTSNode object at 0x7f1fda075f60>, <reasoners.algorithm.mcts.MCTSNode object at 0x7f1fda076230>, <reasoners.algorithm.mcts.MCTSNode object at 0x7f1fda076500>, <reasoners.algorithm.mcts.MCTSNode object at 0x7f1fda0767d0>], [<reasoners.algorithm.mcts.MCTSNode object at 0x7f1fda076ce0>, <reasoners.algorithm.mcts.MCTSNode object at 0x7f1fda077070>, <reasoners.algorithm.mcts.MCTSNode object at 0x7f1fda077400>, <reasoners.algorithm.mcts.MCTSNode object at 0x7f1fda077700>, <reasoners.algorithm.mcts.MCTSNode object at 0x7f1fda077a00>, <reasoners.algorithm.mcts.MCTSNode object at 0x7f1fda077d00>, <reasoners.algorithm.mcts.MCTSNode object at 0x7f1fda088040>]], tree_state_after_each_iter=[<reasoners.algorithm.mcts.MCTSNode object at 0x7f1fda04c790>, <reasoners.algorithm.mcts.MCTSNode object at 0x7f1fda04d8a0>, <reasoners.algorithm.mcts.MCTSNode object at 0x7f1fda04e680>, <reasoners.algorithm.mcts.MCTSNode object at 0x7f1fda04f5b0>, <reasoners.algorithm.mcts.MCTSNode object at 0x7f1fda060670>, <reasoners.algorithm.mcts.MCTSNode object at 0x7f1fda061840>, <reasoners.algorithm.mcts.MCTSNode object at 0x7f1fda062b60>, <reasoners.algorithm.mcts.MCTSNode object at 0x7f1fda063fd0>, <reasoners.algorithm.mcts.MCTSNode object at 0x7f1fda0755d0>, <reasoners.algorithm.mcts.MCTSNode object at 0x7f1fda076ce0>], aggregated_result=None)"
      ]
     },
     "execution_count": 4,
     "metadata": {},
     "output_type": "execute_result"
    }
   ],
   "source": [
    "mcts_result"
   ]
  },
  {
   "cell_type": "code",
   "execution_count": 5,
   "metadata": {},
   "outputs": [
    {
     "data": {
      "text/plain": [
       "'3 is prime.\\n3 is a natural number.\\n3 is an integer.\\n3 is a real number.\\n3 is not imaginary.'"
      ]
     },
     "execution_count": 5,
     "metadata": {},
     "output_type": "execute_result"
    }
   ],
   "source": [
    "\"\\n\".join([mcts_result.trace[0][i].body for i in range(1, len(mcts_result.trace[0]) - 1)])"
   ]
  },
  {
   "cell_type": "code",
   "execution_count": 6,
   "metadata": {},
   "outputs": [
    {
     "data": {
      "text/plain": [
       "([ProntoQAState(last_state=None, last_action=None, body='3 is a prime number.'),\n",
       "  ProntoQAState(last_state=ProntoQAState(last_state=None, last_action=None, body='3 is a prime number.'), last_action='Prime numbers are prime.', body='3 is prime.'),\n",
       "  ProntoQAState(last_state=ProntoQAState(last_state=ProntoQAState(last_state=None, last_action=None, body='3 is a prime number.'), last_action='Prime numbers are prime.', body='3 is prime.'), last_action='Every prime number is a natural number.', body='3 is a natural number.'),\n",
       "  ProntoQAState(last_state=ProntoQAState(last_state=ProntoQAState(last_state=ProntoQAState(last_state=None, last_action=None, body='3 is a prime number.'), last_action='Prime numbers are prime.', body='3 is prime.'), last_action='Every prime number is a natural number.', body='3 is a natural number.'), last_action='Every natural number is an integer.', body='3 is an integer.'),\n",
       "  ProntoQAState(last_state=ProntoQAState(last_state=ProntoQAState(last_state=ProntoQAState(last_state=ProntoQAState(last_state=None, last_action=None, body='3 is a prime number.'), last_action='Prime numbers are prime.', body='3 is prime.'), last_action='Every prime number is a natural number.', body='3 is a natural number.'), last_action='Every natural number is an integer.', body='3 is an integer.'), last_action='Every integer is a real number.', body='3 is a real number.'),\n",
       "  ProntoQAState(last_state=ProntoQAState(last_state=ProntoQAState(last_state=ProntoQAState(last_state=ProntoQAState(last_state=ProntoQAState(last_state=None, last_action=None, body='3 is a prime number.'), last_action='Prime numbers are prime.', body='3 is prime.'), last_action='Every prime number is a natural number.', body='3 is a natural number.'), last_action='Every natural number is an integer.', body='3 is an integer.'), last_action='Every integer is a real number.', body='3 is a real number.'), last_action='Real numbers are not imaginary.', body='3 is not imaginary.'),\n",
       "  ProntoQAState(last_state=ProntoQAState(last_state=ProntoQAState(last_state=ProntoQAState(last_state=ProntoQAState(last_state=ProntoQAState(last_state=ProntoQAState(last_state=None, last_action=None, body='3 is a prime number.'), last_action='Prime numbers are prime.', body='3 is prime.'), last_action='Every prime number is a natural number.', body='3 is a natural number.'), last_action='Every natural number is an integer.', body='3 is an integer.'), last_action='Every integer is a real number.', body='3 is a real number.'), last_action='Real numbers are not imaginary.', body='3 is not imaginary.'), last_action='Finish.', body='True')],\n",
       " ['Prime numbers are prime.',\n",
       "  'Every prime number is a natural number.',\n",
       "  'Every natural number is an integer.',\n",
       "  'Every integer is a real number.',\n",
       "  'Real numbers are not imaginary.',\n",
       "  'Finish.'])"
      ]
     },
     "execution_count": 6,
     "metadata": {},
     "output_type": "execute_result"
    }
   ],
   "source": [
    "mcts_result.trace"
   ]
  },
  {
   "cell_type": "markdown",
   "metadata": {},
   "source": []
  },
  {
   "cell_type": "markdown",
   "metadata": {},
   "source": []
  },
  {
   "cell_type": "code",
   "execution_count": 10,
   "metadata": {},
   "outputs": [],
   "source": [
    "# customize the information to show (optional)\n",
    "from reasoners.visualization.tree_snapshot import NodeData, EdgeData\n",
    "from reasoners.algorithm.mcts import MCTSNode\n",
    "\n",
    "def blocksworld_node_data_factory(n: MCTSNode) -> NodeData:\n",
    "    return NodeData({\"state\": n.state.body if n.state else None})\n",
    "def blocksworld_edge_data_factory(n) -> EdgeData:\n",
    "    return EdgeData({\"Q\":n.Q, \"intuition\": n.fast_reward_details[\"intuition\"], \"self_eval\": n.fast_reward_details[\"self-eval\"], \"action\": n.action})"
   ]
  },
  {
   "cell_type": "code",
   "execution_count": 11,
   "metadata": {},
   "outputs": [
    {
     "data": {
      "text/plain": [
       "{'self-eval': 0.30404168367385864, 'intuition': -1.3922966}"
      ]
     },
     "execution_count": 11,
     "metadata": {},
     "output_type": "execute_result"
    }
   ],
   "source": [
    "mcts_result.trace_in_each_iter[-1][1].fast_reward_details"
   ]
  },
  {
   "cell_type": "code",
   "execution_count": 12,
   "metadata": {
    "collapsed": false
   },
   "outputs": [
    {
     "name": "stdout",
     "output_type": "stream",
     "text": [
      "Visualizer URL: https://www.llm-reasoners.net/visualizer/1ad2f7bb-3e9a-42e7-afac-c17f7c7426db?accessKey=2c503385\n"
     ]
    }
   ],
   "source": [
    "# let's go!\n",
    "visualize(mcts_result, edge_data_factory=blocksworld_edge_data_factory, node_data_factory=blocksworld_node_data_factory)"
   ]
  },
  {
   "cell_type": "code",
   "execution_count": 14,
   "metadata": {},
   "outputs": [
    {
     "ename": "AttributeError",
     "evalue": "'BeamSearchResult' object has no attribute 'state'",
     "output_type": "error",
     "traceback": [
      "\u001b[0;31m---------------------------------------------------------------------------\u001b[0m",
      "\u001b[0;31mAttributeError\u001b[0m                            Traceback (most recent call last)",
      "\u001b[1;32m/home/shibo/llm-reasoners/examples/blocksworld/visualize.ipynb Cell 8\u001b[0m line \u001b[0;36m1\n\u001b[0;32m----> <a href='vscode-notebook-cell://ssh-remote%2Bserv9/home/shibo/llm-reasoners/examples/blocksworld/visualize.ipynb#X12sdnNjb2RlLXJlbW90ZQ%3D%3D?line=0'>1</a>\u001b[0m beam_result\u001b[39m.\u001b[39;49mstate\n",
      "\u001b[0;31mAttributeError\u001b[0m: 'BeamSearchResult' object has no attribute 'state'"
     ]
    }
   ],
   "source": [
    "beam_result.state"
   ]
  },
  {
   "cell_type": "code",
   "execution_count": null,
   "metadata": {},
   "outputs": [],
   "source": []
  }
 ],
 "metadata": {
  "kernelspec": {
   "display_name": "rap",
   "language": "python",
   "name": "python3"
  },
  "language_info": {
   "codemirror_mode": {
    "name": "ipython",
    "version": 3
   },
   "file_extension": ".py",
   "mimetype": "text/x-python",
   "name": "python",
   "nbconvert_exporter": "python",
   "pygments_lexer": "ipython3",
   "version": "3.10.13"
  },
  "orig_nbformat": 4
 },
 "nbformat": 4,
 "nbformat_minor": 2
}
