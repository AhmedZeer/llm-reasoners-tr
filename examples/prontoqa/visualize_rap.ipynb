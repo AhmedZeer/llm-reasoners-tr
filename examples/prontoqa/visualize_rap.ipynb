{
 "cells": [
  {
   "cell_type": "code",
   "execution_count": 7,
   "metadata": {
    "ExecuteTime": {
     "end_time": "2023-07-22T15:23:26.493869Z",
     "start_time": "2023-07-22T15:23:26.490035Z"
    }
   },
   "outputs": [],
   "source": [
    "# import modules\n",
    "import pickle\n",
    "import sys\n",
    "sys.path.append('..') \n",
    "# the data structure for blocksworld is defined in the parent directory\n",
    "from reasoners.visualization import visualize"
   ]
  },
  {
   "cell_type": "code",
   "execution_count": 3,
   "metadata": {},
   "outputs": [],
   "source": [
    "# from tot_inference import BWState"
   ]
  },
  {
   "cell_type": "code",
   "execution_count": 3,
   "metadata": {},
   "outputs": [
    {
     "name": "stderr",
     "output_type": "stream",
     "text": [
      "/data/adithya/anaconda3/envs/reasoners/lib/python3.10/site-packages/tqdm/auto.py:21: TqdmWarning: IProgress not found. Please update jupyter and ipywidgets. See https://ipywidgets.readthedocs.io/en/stable/user_install.html\n",
      "  from .autonotebook import tqdm as notebook_tqdm\n"
     ]
    }
   ],
   "source": [
    "import pickle\n",
    "with open(\"logs/pronto_debug/MCTS_0.pkl\", 'rb') as f:\n",
    "    mcts_result = pickle.load(f)"
   ]
  },
  {
   "cell_type": "markdown",
   "metadata": {},
   "source": []
  },
  {
   "cell_type": "markdown",
   "metadata": {},
   "source": []
  },
  {
   "cell_type": "code",
   "execution_count": 4,
   "metadata": {},
   "outputs": [],
   "source": [
    "# customize the information to show (optional)\n",
    "from reasoners.visualization.tree_snapshot import NodeData, EdgeData\n",
    "from reasoners.algorithm.mcts import MCTSNode\n",
    "\n",
    "def blocksworld_node_data_factory(n: MCTSNode) -> NodeData:\n",
    "    return NodeData({\"state\": n.state.body if n.state else None})\n",
    "def blocksworld_edge_data_factory(n) -> EdgeData:\n",
    "    return EdgeData({\"intuition\": n.fast_reward_details[\"intuition\"], \"self_eval\": n.fast_reward_details[\"self-eval\"], \"action\": n.action})"
   ]
  },
  {
   "cell_type": "code",
   "execution_count": 5,
   "metadata": {},
   "outputs": [
    {
     "data": {
      "text/plain": [
       "{'self-eval': 0, 'intuition': -0.5621582}"
      ]
     },
     "execution_count": 5,
     "metadata": {},
     "output_type": "execute_result"
    }
   ],
   "source": [
    "mcts_result.trace_in_each_iter[-1][1].fast_reward_details"
   ]
  },
  {
   "cell_type": "code",
   "execution_count": 8,
   "metadata": {
    "collapsed": false
   },
   "outputs": [
    {
     "name": "stdout",
     "output_type": "stream",
     "text": [
      "Visualizer URL: https://www.llm-reasoners.net/visualizer/276795b4-bc60-4a56-91c6-7567f25d1b11?accessKey=c49db883\n"
     ]
    }
   ],
   "source": [
    "# let's go!\n",
    "visualize(mcts_result, edge_data_factory=blocksworld_edge_data_factory, node_data_factory=blocksworld_node_data_factory)"
   ]
  },
  {
   "cell_type": "code",
   "execution_count": 14,
   "metadata": {},
   "outputs": [
    {
     "ename": "AttributeError",
     "evalue": "'BeamSearchResult' object has no attribute 'state'",
     "output_type": "error",
     "traceback": [
      "\u001b[0;31m---------------------------------------------------------------------------\u001b[0m",
      "\u001b[0;31mAttributeError\u001b[0m                            Traceback (most recent call last)",
      "\u001b[1;32m/home/shibo/llm-reasoners/examples/blocksworld/visualize.ipynb Cell 8\u001b[0m line \u001b[0;36m1\n\u001b[0;32m----> <a href='vscode-notebook-cell://ssh-remote%2Bserv9/home/shibo/llm-reasoners/examples/blocksworld/visualize.ipynb#X12sdnNjb2RlLXJlbW90ZQ%3D%3D?line=0'>1</a>\u001b[0m beam_result\u001b[39m.\u001b[39;49mstate\n",
      "\u001b[0;31mAttributeError\u001b[0m: 'BeamSearchResult' object has no attribute 'state'"
     ]
    }
   ],
   "source": [
    "beam_result.state"
   ]
  },
  {
   "cell_type": "code",
   "execution_count": null,
   "metadata": {},
   "outputs": [],
   "source": []
  }
 ],
 "metadata": {
  "kernelspec": {
   "display_name": "rap",
   "language": "python",
   "name": "python3"
  },
  "language_info": {
   "codemirror_mode": {
    "name": "ipython",
    "version": 3
   },
   "file_extension": ".py",
   "mimetype": "text/x-python",
   "name": "python",
   "nbconvert_exporter": "python",
   "pygments_lexer": "ipython3",
   "version": "3.10.13"
  },
  "orig_nbformat": 4
 },
 "nbformat": 4,
 "nbformat_minor": 2
}
